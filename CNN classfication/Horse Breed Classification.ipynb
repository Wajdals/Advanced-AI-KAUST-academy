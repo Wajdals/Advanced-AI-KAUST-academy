{
  "cells": [
    {
      "cell_type": "markdown",
      "metadata": {
        "id": "kQzAZy2823l-"
      },
      "source": [
        "# **📌 Custom Dataset for Horse Breed Classification**\n",
        "\n",
        "## **1️⃣ Understanding the Dataset Structure**\n",
        "Unlike standard datasets where images are placed inside subfolders (one per class), this dataset is structured differently:\n",
        "- **All images are in a single folder** (no subfolders).\n",
        "- **Class labels are embedded in the filenames** (e.g., `01_005.png`).\n",
        "\n",
        "---\n",
        "\n",
        "## **2️⃣ Why Can't We Use `ImageFolder`?**\n",
        "`torchvision.datasets.ImageFolder` assumes:\n",
        "\n",
        "✅ **Each class has its own folder**  \n",
        "❌ **This dataset does not follow that structure**  \n",
        "\n",
        "Since our dataset does not follow the subfolder format, we **cannot** use `ImageFolder`. Instead, we will **extract class labels manually from filenames**.\n",
        "\n",
        "---\n",
        "\n",
        "## **3️⃣ What We Need to Do**\n",
        "1️⃣ **Extract Image Paths** using `glob`.  \n",
        "2️⃣ **Parse Labels from Filenames** (e.g., `01_001.png` → `01`).  \n",
        "3️⃣ **Create a Custom Dataset Class** that loads images and their corresponding labels.\n"
      ]
    },
    {
      "cell_type": "code",
      "execution_count": null,
      "metadata": {
        "trusted": true,
        "id": "t5e1O7LX23mO"
      },
      "outputs": [],
      "source": [
        "# # Please uncomment this out when you are running this lab on google colab!\n",
        "# import os\n",
        "\n",
        "# # Set KaggleHub cache to a directory inside /content/\n",
        "# os.environ[\"KAGGLEHUB_CACHE\"] = \"/content/data\""
      ]
    },
    {
      "cell_type": "code",
      "execution_count": null,
      "metadata": {
        "execution": {
          "iopub.execute_input": "2025-02-14T18:48:21.475967Z",
          "iopub.status.busy": "2025-02-14T18:48:21.475562Z",
          "iopub.status.idle": "2025-02-14T18:48:21.774051Z",
          "shell.execute_reply": "2025-02-14T18:48:21.772886Z",
          "shell.execute_reply.started": "2025-02-14T18:48:21.475944Z"
        },
        "trusted": true,
        "id": "-ok5ZVE123mT",
        "outputId": "f5bf5a76-5e50-4493-befb-32d762374396"
      },
      "outputs": [
        {
          "name": "stdout",
          "output_type": "stream",
          "text": [
            "Path to dataset files: /kaggle/input/horse-breeds\n"
          ]
        }
      ],
      "source": [
        "import kagglehub\n",
        "\n",
        "# Download latest version\n",
        "dataset_path = kagglehub.dataset_download(\"olgabelitskaya/horse-breeds\")\n",
        "\n",
        "print(\"Path to dataset files:\", dataset_path)"
      ]
    },
    {
      "cell_type": "code",
      "execution_count": null,
      "metadata": {
        "execution": {
          "iopub.execute_input": "2025-02-14T18:55:13.433901Z",
          "iopub.status.busy": "2025-02-14T18:55:13.433610Z",
          "iopub.status.idle": "2025-02-14T18:55:13.441691Z",
          "shell.execute_reply": "2025-02-14T18:55:13.440630Z",
          "shell.execute_reply.started": "2025-02-14T18:55:13.433878Z"
        },
        "trusted": true,
        "id": "IwZiNRkr23mX",
        "outputId": "e4bf031f-8f14-40ae-f361-46bb93811745"
      },
      "outputs": [
        {
          "name": "stdout",
          "output_type": "stream",
          "text": [
            "Example Image Path: /kaggle/input/horse-breeds/01_103.png\n",
            "Extracted Label: 1\n"
          ]
        }
      ],
      "source": [
        "import os\n",
        "import glob\n",
        "\n",
        "# Get all image paths\n",
        "image_paths = glob.glob(os.path.join(dataset_path, \"*.png\"))\n",
        "\n",
        "# Extract labels from filenames\n",
        "image_labels = [int(os.path.basename(path).split(\"_\")[0]) for path in image_paths]     # basename() extracts the filename from the path (you can do that manually also using split).\n",
        "        # `../horse-breeds/01_001.png` → basename() → `01_001.png` → split(\"_\")[0] → `01` → int() → 1\n",
        "\n",
        "# Print example\n",
        "print(f\"Example Image Path: {image_paths[0]}\")\n",
        "print(f\"Extracted Label: {image_labels[0]}\")"
      ]
    },
    {
      "cell_type": "markdown",
      "metadata": {
        "id": "QUnTcP3Q23mZ"
      },
      "source": [
        "##### Then just pass them to a dataset class similar to what we did before."
      ]
    },
    {
      "cell_type": "code",
      "execution_count": null,
      "metadata": {
        "execution": {
          "iopub.execute_input": "2025-02-14T19:01:14.444863Z",
          "iopub.status.busy": "2025-02-14T19:01:14.444527Z",
          "iopub.status.idle": "2025-02-14T19:01:14.457717Z",
          "shell.execute_reply": "2025-02-14T19:01:14.455669Z",
          "shell.execute_reply.started": "2025-02-14T19:01:14.444838Z"
        },
        "trusted": true,
        "id": "U4ODFqQe23mb",
        "outputId": "dfb71a3c-777f-4dbc-f377-8f51acc13de4"
      },
      "outputs": [
        {
          "data": {
            "text/plain": [
              "(<PIL.PngImagePlugin.PngImageFile image mode=RGBA size=256x256>, 1)"
            ]
          },
          "execution_count": 17,
          "metadata": {},
          "output_type": "execute_result"
        }
      ],
      "source": [
        "from torch.utils.data import Dataset\n",
        "from PIL import Image\n",
        "\n",
        "class HorsesDataset(Dataset):\n",
        "    def __init__(self, image_paths, labels, transform=None):                                 # We just copied the SmokingDataset class\n",
        "        self.image_paths = image_paths  # List of image paths\n",
        "        self.labels = labels  # Corresponding labels\n",
        "        self.transform = transform  # Transformations to apply\n",
        "\n",
        "    def __len__(self):\n",
        "        return len(self.image_paths)  # Total number of images\n",
        "\n",
        "    def __getitem__(self, idx):\n",
        "        image_path = self.image_paths[idx]  # Get image path\n",
        "        label = self.labels[idx]  # Get corresponding label\n",
        "\n",
        "        # Load image\n",
        "        image = Image.open(image_path)\n",
        "\n",
        "        # Apply transformations (if any)\n",
        "        if self.transform:\n",
        "            image = self.transform(image)\n",
        "\n",
        "        return image, label  # Return processed image and its label\n",
        "\n",
        "\n",
        "dataset = HorsesDataset(image_paths, image_labels)                                        # <--  (Passed here)\n",
        "dataset[0]"
      ]
    }
  ],
  "metadata": {
    "kaggle": {
      "accelerator": "none",
      "dataSources": [
        {
          "datasetId": 759809,
          "sourceId": 1899550,
          "sourceType": "datasetVersion"
        }
      ],
      "dockerImageVersionId": 30886,
      "isGpuEnabled": false,
      "isInternetEnabled": true,
      "language": "python",
      "sourceType": "notebook"
    },
    "kernelspec": {
      "display_name": "Python 3",
      "language": "python",
      "name": "python3"
    },
    "language_info": {
      "codemirror_mode": {
        "name": "ipython",
        "version": 3
      },
      "file_extension": ".py",
      "mimetype": "text/x-python",
      "name": "python",
      "nbconvert_exporter": "python",
      "pygments_lexer": "ipython3",
      "version": "3.10.12"
    },
    "colab": {
      "provenance": []
    }
  },
  "nbformat": 4,
  "nbformat_minor": 0
}