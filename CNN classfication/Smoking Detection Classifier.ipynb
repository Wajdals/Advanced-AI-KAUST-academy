{
  "cells": [
    {
      "cell_type": "markdown",
      "id": "c1682ec0",
      "metadata": {
        "papermill": {
          "duration": 0.003832,
          "end_time": "2025-02-14T19:28:00.260727",
          "exception": false,
          "start_time": "2025-02-14T19:28:00.256895",
          "status": "completed"
        },
        "tags": [],
        "id": "c1682ec0"
      },
      "source": [
        "![image.png](https://i.imgur.com/a3uAqnb.png)"
      ]
    },
    {
      "cell_type": "markdown",
      "id": "b54c80c4",
      "metadata": {
        "papermill": {
          "duration": 0.002804,
          "end_time": "2025-02-14T19:28:00.267242",
          "exception": false,
          "start_time": "2025-02-14T19:28:00.264438",
          "status": "completed"
        },
        "tags": [],
        "id": "b54c80c4"
      },
      "source": [
        "# **🚀 Exercise: Build a Smoking Detection Classifier**\n",
        "In this exercise, you will **train a binary classifier** to detect whether a person is **smoking** or **not smoking** using the `Smoking` dataset.\n",
        "\n",
        "✅ **You will:**\n",
        "\n",
        "1️⃣ Download the dataset.  \n",
        "2️⃣ Build a **custom Dataset class** to handle image loading.  \n",
        "3️⃣ Use **ResNet-18** as a pretrained model (can be accessed via: from torchvision.models import resnet18).  \n",
        "4️⃣ Train the model and report **Training, Validation, and Testing Accuracy**.  \n",
        "5️⃣ Display some **predictions along with images** at the end.  "
      ]
    },
    {
      "cell_type": "code",
      "execution_count": null,
      "id": "659d905f",
      "metadata": {
        "execution": {
          "iopub.execute_input": "2025-02-14T19:28:00.275307Z",
          "iopub.status.busy": "2025-02-14T19:28:00.274992Z",
          "iopub.status.idle": "2025-02-14T19:28:00.279775Z",
          "shell.execute_reply": "2025-02-14T19:28:00.278962Z"
        },
        "papermill": {
          "duration": 0.010468,
          "end_time": "2025-02-14T19:28:00.281118",
          "exception": false,
          "start_time": "2025-02-14T19:28:00.270650",
          "status": "completed"
        },
        "tags": [],
        "id": "659d905f"
      },
      "outputs": [],
      "source": [
        "# # Please uncomment this out when you are running this lab on google colab!\n",
        "# import os\n",
        "\n",
        "# # Set KaggleHub cache to a directory inside /content/\n",
        "# os.environ[\"KAGGLEHUB_CACHE\"] = \"/content/data\""
      ]
    },
    {
      "cell_type": "code",
      "execution_count": null,
      "id": "f366f805",
      "metadata": {
        "execution": {
          "iopub.execute_input": "2025-02-14T19:28:00.289060Z",
          "iopub.status.busy": "2025-02-14T19:28:00.288770Z",
          "iopub.status.idle": "2025-02-14T19:28:01.706514Z",
          "shell.execute_reply": "2025-02-14T19:28:01.705491Z"
        },
        "papermill": {
          "duration": 1.423285,
          "end_time": "2025-02-14T19:28:01.708045",
          "exception": false,
          "start_time": "2025-02-14T19:28:00.284760",
          "status": "completed"
        },
        "tags": [],
        "vscode": {
          "languageId": "plaintext"
        },
        "id": "f366f805",
        "outputId": "b12f5fea-fa4d-4f2f-91d0-30e0a72cf27b"
      },
      "outputs": [
        {
          "name": "stdout",
          "output_type": "stream",
          "text": [
            "Path to dataset files: /kaggle/input/smoking\n"
          ]
        }
      ],
      "source": [
        "import kagglehub\n",
        "\n",
        "# Download latest version\n",
        "path = kagglehub.dataset_download(\"sujaykapadnis/smoking\")\n",
        "\n",
        "print(\"Path to dataset files:\", path)"
      ]
    },
    {
      "cell_type": "markdown",
      "id": "89ef9ce3",
      "metadata": {
        "papermill": {
          "duration": 0.00431,
          "end_time": "2025-02-14T19:28:01.716235",
          "exception": false,
          "start_time": "2025-02-14T19:28:01.711925",
          "status": "completed"
        },
        "tags": [],
        "id": "89ef9ce3"
      },
      "source": [
        "## 1️⃣ Dataset Class"
      ]
    },
    {
      "cell_type": "code",
      "execution_count": null,
      "id": "8dd08db0",
      "metadata": {
        "execution": {
          "iopub.execute_input": "2025-02-14T19:28:01.724239Z",
          "iopub.status.busy": "2025-02-14T19:28:01.723842Z",
          "iopub.status.idle": "2025-02-14T19:28:01.789850Z",
          "shell.execute_reply": "2025-02-14T19:28:01.788916Z"
        },
        "papermill": {
          "duration": 0.071472,
          "end_time": "2025-02-14T19:28:01.791194",
          "exception": false,
          "start_time": "2025-02-14T19:28:01.719722",
          "status": "completed"
        },
        "tags": [],
        "id": "8dd08db0",
        "outputId": "192cecd0-ee59-43dd-bfd9-53545bf1601c"
      },
      "outputs": [
        {
          "name": "stderr",
          "output_type": "stream",
          "text": [
            "100%|██████████| 716/716 [00:00<00:00, 906465.94it/s]\n",
            "100%|██████████| 180/180 [00:00<00:00, 466898.40it/s]\n",
            "100%|██████████| 224/224 [00:00<00:00, 528713.62it/s]\n"
          ]
        }
      ],
      "source": [
        "import os\n",
        "import glob\n",
        "from tqdm import tqdm\n",
        "\n",
        "# Define dataset path\n",
        "dataset_path = os.path.join(path, \"Training\", \"Training\")\n",
        "# Get all image paths\n",
        "train_image_paths = glob.glob(f\"{dataset_path}/*.jpg\")\n",
        "\n",
        "# Define dataset path\n",
        "dataset_path = os.path.join(path, \"Validation\", \"Validation\")\n",
        "# Get all image paths\n",
        "valid_image_paths = glob.glob(f\"{dataset_path}/*.jpg\")\n",
        "\n",
        "# Define dataset path\n",
        "dataset_path = os.path.join(path, \"Testing\", \"Testing\")\n",
        "# Get all image paths\n",
        "test_image_paths = glob.glob(f\"{dataset_path}/*.jpg\")\n",
        "\n",
        "\n",
        "train_labels = []\n",
        "valid_labels = []\n",
        "test_labels = []\n",
        "\n",
        "for path in tqdm(train_image_paths):\n",
        "    prefix  = path.split(\"/\")[-1].split(\"_\")[0]                 # \"./Training/smoking_0007.jpg\" → \"smoking_0007.jpg\"  → \"smoking\"\n",
        "    label = 1 if prefix == \"smoking\" else 0                     # Assign label\n",
        "    train_labels.append(label)                                  # Store label\n",
        "\n",
        "for path in tqdm(valid_image_paths):\n",
        "    prefix = path.split(\"/\")[-1].split(\"_\")[0]\n",
        "    label = 1 if prefix == \"smoking\" else 0\n",
        "    valid_labels.append(label)\n",
        "\n",
        "for path in tqdm(test_image_paths):\n",
        "    prefix = path.split(\"/\")[-1].split(\"_\")[0]\n",
        "    label = 1 if prefix == \"smoking\" else 0\n",
        "    test_labels.append(label)"
      ]
    },
    {
      "cell_type": "code",
      "execution_count": null,
      "id": "56551882",
      "metadata": {
        "execution": {
          "iopub.execute_input": "2025-02-14T19:28:01.800639Z",
          "iopub.status.busy": "2025-02-14T19:28:01.800392Z",
          "iopub.status.idle": "2025-02-14T19:28:05.010480Z",
          "shell.execute_reply": "2025-02-14T19:28:05.009295Z"
        },
        "papermill": {
          "duration": 3.217206,
          "end_time": "2025-02-14T19:28:05.012741",
          "exception": false,
          "start_time": "2025-02-14T19:28:01.795535",
          "status": "completed"
        },
        "tags": [],
        "id": "56551882"
      },
      "outputs": [],
      "source": [
        "from torch.utils.data import Dataset\n",
        "from PIL import Image\n",
        "\n",
        "class SmokingDataset(Dataset):\n",
        "    def __init__(self, image_paths, labels, transform=None):\n",
        "        self.image_paths = image_paths  # List of image paths\n",
        "        self.labels = labels  # Corresponding labels\n",
        "        self.transform = transform  # Transformations to apply\n",
        "\n",
        "    def __len__(self):\n",
        "        return len(self.image_paths)  # Total number of images\n",
        "\n",
        "    def __getitem__(self, idx):\n",
        "        image_path = self.image_paths[idx]  # Get image path\n",
        "        label = self.labels[idx]  # Get corresponding label\n",
        "\n",
        "        # Load image\n",
        "        image = Image.open(image_path)\n",
        "\n",
        "        # Apply transformations (if any)\n",
        "        if self.transform:\n",
        "            image = self.transform(image)\n",
        "\n",
        "        return image, label  # Return processed image and its label"
      ]
    },
    {
      "cell_type": "code",
      "execution_count": null,
      "id": "d3cdc63c",
      "metadata": {
        "execution": {
          "iopub.execute_input": "2025-02-14T19:28:05.026220Z",
          "iopub.status.busy": "2025-02-14T19:28:05.025609Z",
          "iopub.status.idle": "2025-02-14T19:28:09.803489Z",
          "shell.execute_reply": "2025-02-14T19:28:09.802221Z"
        },
        "papermill": {
          "duration": 4.786136,
          "end_time": "2025-02-14T19:28:09.805225",
          "exception": false,
          "start_time": "2025-02-14T19:28:05.019089",
          "status": "completed"
        },
        "tags": [],
        "id": "d3cdc63c",
        "outputId": "e28a388b-77ce-431b-e7c8-1a508caca27e"
      },
      "outputs": [
        {
          "name": "stdout",
          "output_type": "stream",
          "text": [
            "Batch shape: torch.Size([32, 3, 224, 224]), Labels: tensor([1, 1, 1, 0, 1, 0, 1, 1, 1, 0, 0, 0, 0, 1, 1, 0, 1, 0, 1, 0, 1, 1, 1, 0,\n",
            "        0, 0, 0, 1, 0, 1, 0, 1])\n"
          ]
        }
      ],
      "source": [
        "from torchvision import transforms\n",
        "from torch.utils.data import DataLoader\n",
        "\n",
        "# Define transformations\n",
        "transform = transforms.Compose([\n",
        "    transforms.Resize((224, 224)),\n",
        "    transforms.RandomRotation(15),\n",
        "    transforms.ColorJitter(brightness=0.2),\n",
        "    transforms.ToTensor(),\n",
        "    transforms.Normalize(mean=[0.485, 0.456, 0.406], std=[0.229, 0.224, 0.225]),\n",
        "])\n",
        "\n",
        "\n",
        "transform_valid_test = transforms.Compose([\n",
        "    transforms.Resize((224, 224)),\n",
        "    transforms.ToTensor(),\n",
        "    transforms.Normalize(mean=[0.485, 0.456, 0.406], std=[0.229, 0.224, 0.225]),\n",
        "])\n",
        "\n",
        "# Initialize datasets\n",
        "train_dataset = SmokingDataset(train_image_paths, train_labels, transform=transform)\n",
        "valid_dataset = SmokingDataset(valid_image_paths, valid_labels, transform=transform_valid_test)\n",
        "test_dataset = SmokingDataset(test_image_paths, test_labels, transform=transform_valid_test)\n",
        "\n",
        "# Create DataLoaders\n",
        "train_loader = DataLoader(train_dataset, batch_size=32, shuffle=True)\n",
        "valid_loader = DataLoader(valid_dataset, batch_size=32, shuffle=False)\n",
        "test_loader = DataLoader(test_dataset, batch_size=32, shuffle=False)\n",
        "\n",
        "# Get a batch of training images\n",
        "images, labels = next(iter(train_loader))\n",
        "print(f\"Batch shape: {images.shape}, Labels: {labels}\")"
      ]
    },
    {
      "cell_type": "markdown",
      "id": "4b803562",
      "metadata": {
        "papermill": {
          "duration": 0.003928,
          "end_time": "2025-02-14T19:28:09.813509",
          "exception": false,
          "start_time": "2025-02-14T19:28:09.809581",
          "status": "completed"
        },
        "tags": [],
        "id": "4b803562"
      },
      "source": [
        "## 2️⃣ Model Class"
      ]
    },
    {
      "cell_type": "code",
      "execution_count": null,
      "id": "5bc90cac",
      "metadata": {
        "execution": {
          "iopub.execute_input": "2025-02-14T19:28:09.822076Z",
          "iopub.status.busy": "2025-02-14T19:28:09.821627Z",
          "iopub.status.idle": "2025-02-14T19:28:10.454250Z",
          "shell.execute_reply": "2025-02-14T19:28:10.453194Z"
        },
        "papermill": {
          "duration": 0.638534,
          "end_time": "2025-02-14T19:28:10.455832",
          "exception": false,
          "start_time": "2025-02-14T19:28:09.817298",
          "status": "completed"
        },
        "tags": [],
        "id": "5bc90cac",
        "outputId": "de517d7f-ee6a-4bc0-c031-47436b224ea4"
      },
      "outputs": [
        {
          "name": "stderr",
          "output_type": "stream",
          "text": [
            "/usr/local/lib/python3.10/dist-packages/torchvision/models/_utils.py:208: UserWarning: The parameter 'pretrained' is deprecated since 0.13 and may be removed in the future, please use 'weights' instead.\n",
            "  warnings.warn(\n",
            "/usr/local/lib/python3.10/dist-packages/torchvision/models/_utils.py:223: UserWarning: Arguments other than a weight enum or `None` for 'weights' are deprecated since 0.13 and may be removed in the future. The current behavior is equivalent to passing `weights=ResNet18_Weights.IMAGENET1K_V1`. You can also use `weights=ResNet18_Weights.DEFAULT` to get the most up-to-date weights.\n",
            "  warnings.warn(msg)\n",
            "Downloading: \"https://download.pytorch.org/models/resnet18-f37072fd.pth\" to /root/.cache/torch/hub/checkpoints/resnet18-f37072fd.pth\n",
            "100%|██████████| 44.7M/44.7M [00:00<00:00, 163MB/s]\n"
          ]
        },
        {
          "data": {
            "text/plain": [
              "ResNet(\n",
              "  (conv1): Conv2d(3, 64, kernel_size=(7, 7), stride=(2, 2), padding=(3, 3), bias=False)\n",
              "  (bn1): BatchNorm2d(64, eps=1e-05, momentum=0.1, affine=True, track_running_stats=True)\n",
              "  (relu): ReLU(inplace=True)\n",
              "  (maxpool): MaxPool2d(kernel_size=3, stride=2, padding=1, dilation=1, ceil_mode=False)\n",
              "  (layer1): Sequential(\n",
              "    (0): BasicBlock(\n",
              "      (conv1): Conv2d(64, 64, kernel_size=(3, 3), stride=(1, 1), padding=(1, 1), bias=False)\n",
              "      (bn1): BatchNorm2d(64, eps=1e-05, momentum=0.1, affine=True, track_running_stats=True)\n",
              "      (relu): ReLU(inplace=True)\n",
              "      (conv2): Conv2d(64, 64, kernel_size=(3, 3), stride=(1, 1), padding=(1, 1), bias=False)\n",
              "      (bn2): BatchNorm2d(64, eps=1e-05, momentum=0.1, affine=True, track_running_stats=True)\n",
              "    )\n",
              "    (1): BasicBlock(\n",
              "      (conv1): Conv2d(64, 64, kernel_size=(3, 3), stride=(1, 1), padding=(1, 1), bias=False)\n",
              "      (bn1): BatchNorm2d(64, eps=1e-05, momentum=0.1, affine=True, track_running_stats=True)\n",
              "      (relu): ReLU(inplace=True)\n",
              "      (conv2): Conv2d(64, 64, kernel_size=(3, 3), stride=(1, 1), padding=(1, 1), bias=False)\n",
              "      (bn2): BatchNorm2d(64, eps=1e-05, momentum=0.1, affine=True, track_running_stats=True)\n",
              "    )\n",
              "  )\n",
              "  (layer2): Sequential(\n",
              "    (0): BasicBlock(\n",
              "      (conv1): Conv2d(64, 128, kernel_size=(3, 3), stride=(2, 2), padding=(1, 1), bias=False)\n",
              "      (bn1): BatchNorm2d(128, eps=1e-05, momentum=0.1, affine=True, track_running_stats=True)\n",
              "      (relu): ReLU(inplace=True)\n",
              "      (conv2): Conv2d(128, 128, kernel_size=(3, 3), stride=(1, 1), padding=(1, 1), bias=False)\n",
              "      (bn2): BatchNorm2d(128, eps=1e-05, momentum=0.1, affine=True, track_running_stats=True)\n",
              "      (downsample): Sequential(\n",
              "        (0): Conv2d(64, 128, kernel_size=(1, 1), stride=(2, 2), bias=False)\n",
              "        (1): BatchNorm2d(128, eps=1e-05, momentum=0.1, affine=True, track_running_stats=True)\n",
              "      )\n",
              "    )\n",
              "    (1): BasicBlock(\n",
              "      (conv1): Conv2d(128, 128, kernel_size=(3, 3), stride=(1, 1), padding=(1, 1), bias=False)\n",
              "      (bn1): BatchNorm2d(128, eps=1e-05, momentum=0.1, affine=True, track_running_stats=True)\n",
              "      (relu): ReLU(inplace=True)\n",
              "      (conv2): Conv2d(128, 128, kernel_size=(3, 3), stride=(1, 1), padding=(1, 1), bias=False)\n",
              "      (bn2): BatchNorm2d(128, eps=1e-05, momentum=0.1, affine=True, track_running_stats=True)\n",
              "    )\n",
              "  )\n",
              "  (layer3): Sequential(\n",
              "    (0): BasicBlock(\n",
              "      (conv1): Conv2d(128, 256, kernel_size=(3, 3), stride=(2, 2), padding=(1, 1), bias=False)\n",
              "      (bn1): BatchNorm2d(256, eps=1e-05, momentum=0.1, affine=True, track_running_stats=True)\n",
              "      (relu): ReLU(inplace=True)\n",
              "      (conv2): Conv2d(256, 256, kernel_size=(3, 3), stride=(1, 1), padding=(1, 1), bias=False)\n",
              "      (bn2): BatchNorm2d(256, eps=1e-05, momentum=0.1, affine=True, track_running_stats=True)\n",
              "      (downsample): Sequential(\n",
              "        (0): Conv2d(128, 256, kernel_size=(1, 1), stride=(2, 2), bias=False)\n",
              "        (1): BatchNorm2d(256, eps=1e-05, momentum=0.1, affine=True, track_running_stats=True)\n",
              "      )\n",
              "    )\n",
              "    (1): BasicBlock(\n",
              "      (conv1): Conv2d(256, 256, kernel_size=(3, 3), stride=(1, 1), padding=(1, 1), bias=False)\n",
              "      (bn1): BatchNorm2d(256, eps=1e-05, momentum=0.1, affine=True, track_running_stats=True)\n",
              "      (relu): ReLU(inplace=True)\n",
              "      (conv2): Conv2d(256, 256, kernel_size=(3, 3), stride=(1, 1), padding=(1, 1), bias=False)\n",
              "      (bn2): BatchNorm2d(256, eps=1e-05, momentum=0.1, affine=True, track_running_stats=True)\n",
              "    )\n",
              "  )\n",
              "  (layer4): Sequential(\n",
              "    (0): BasicBlock(\n",
              "      (conv1): Conv2d(256, 512, kernel_size=(3, 3), stride=(2, 2), padding=(1, 1), bias=False)\n",
              "      (bn1): BatchNorm2d(512, eps=1e-05, momentum=0.1, affine=True, track_running_stats=True)\n",
              "      (relu): ReLU(inplace=True)\n",
              "      (conv2): Conv2d(512, 512, kernel_size=(3, 3), stride=(1, 1), padding=(1, 1), bias=False)\n",
              "      (bn2): BatchNorm2d(512, eps=1e-05, momentum=0.1, affine=True, track_running_stats=True)\n",
              "      (downsample): Sequential(\n",
              "        (0): Conv2d(256, 512, kernel_size=(1, 1), stride=(2, 2), bias=False)\n",
              "        (1): BatchNorm2d(512, eps=1e-05, momentum=0.1, affine=True, track_running_stats=True)\n",
              "      )\n",
              "    )\n",
              "    (1): BasicBlock(\n",
              "      (conv1): Conv2d(512, 512, kernel_size=(3, 3), stride=(1, 1), padding=(1, 1), bias=False)\n",
              "      (bn1): BatchNorm2d(512, eps=1e-05, momentum=0.1, affine=True, track_running_stats=True)\n",
              "      (relu): ReLU(inplace=True)\n",
              "      (conv2): Conv2d(512, 512, kernel_size=(3, 3), stride=(1, 1), padding=(1, 1), bias=False)\n",
              "      (bn2): BatchNorm2d(512, eps=1e-05, momentum=0.1, affine=True, track_running_stats=True)\n",
              "    )\n",
              "  )\n",
              "  (avgpool): AdaptiveAvgPool2d(output_size=(1, 1))\n",
              "  (fc): Linear(in_features=512, out_features=1000, bias=True)\n",
              ")"
            ]
          },
          "execution_count": 6,
          "metadata": {},
          "output_type": "execute_result"
        }
      ],
      "source": [
        "from torchvision import models\n",
        "from torch import nn\n",
        "\n",
        "# Load pretrained resnet18\n",
        "model = models.resnet18(pretrained=True)\n",
        "model"
      ]
    },
    {
      "cell_type": "markdown",
      "id": "d3893a85",
      "metadata": {
        "papermill": {
          "duration": 0.004575,
          "end_time": "2025-02-14T19:28:10.466751",
          "exception": false,
          "start_time": "2025-02-14T19:28:10.462176",
          "status": "completed"
        },
        "tags": [],
        "id": "d3893a85"
      },
      "source": [
        "###"
      ]
    },
    {
      "cell_type": "markdown",
      "id": "c0afa294",
      "metadata": {
        "papermill": {
          "duration": 0.004514,
          "end_time": "2025-02-14T19:28:10.475896",
          "exception": false,
          "start_time": "2025-02-14T19:28:10.471382",
          "status": "completed"
        },
        "tags": [],
        "id": "c0afa294"
      },
      "source": [
        "Looking at the **ResNet architecture**, we can see that the **last fully connected (fc) layer** is designed for **1000 classes** (ImageNet classification).  \n",
        "Since we are working on **binary classification** (Smoking vs. NoSmoking), we need to **replace the last layer** with a new one that outputs **a single value**.\n",
        "\n",
        "\n",
        "To modify the last layer, we need to know how many input features it expects.  \n",
        "We can access this using:\n",
        "```python\n",
        "model.fc.in_features"
      ]
    },
    {
      "cell_type": "code",
      "execution_count": null,
      "id": "3d58cf64",
      "metadata": {
        "execution": {
          "iopub.execute_input": "2025-02-14T19:28:10.486057Z",
          "iopub.status.busy": "2025-02-14T19:28:10.485742Z",
          "iopub.status.idle": "2025-02-14T19:28:10.739123Z",
          "shell.execute_reply": "2025-02-14T19:28:10.737847Z"
        },
        "papermill": {
          "duration": 0.260583,
          "end_time": "2025-02-14T19:28:10.740949",
          "exception": false,
          "start_time": "2025-02-14T19:28:10.480366",
          "status": "completed"
        },
        "tags": [],
        "id": "3d58cf64",
        "outputId": "b80a11b3-dd47-4436-c1ba-fae51b5425af"
      },
      "outputs": [
        {
          "name": "stdout",
          "output_type": "stream",
          "text": [
            "ResNet(\n",
            "  (conv1): Conv2d(3, 64, kernel_size=(7, 7), stride=(2, 2), padding=(3, 3), bias=False)\n",
            "  (bn1): BatchNorm2d(64, eps=1e-05, momentum=0.1, affine=True, track_running_stats=True)\n",
            "  (relu): ReLU(inplace=True)\n",
            "  (maxpool): MaxPool2d(kernel_size=3, stride=2, padding=1, dilation=1, ceil_mode=False)\n",
            "  (layer1): Sequential(\n",
            "    (0): BasicBlock(\n",
            "      (conv1): Conv2d(64, 64, kernel_size=(3, 3), stride=(1, 1), padding=(1, 1), bias=False)\n",
            "      (bn1): BatchNorm2d(64, eps=1e-05, momentum=0.1, affine=True, track_running_stats=True)\n",
            "      (relu): ReLU(inplace=True)\n",
            "      (conv2): Conv2d(64, 64, kernel_size=(3, 3), stride=(1, 1), padding=(1, 1), bias=False)\n",
            "      (bn2): BatchNorm2d(64, eps=1e-05, momentum=0.1, affine=True, track_running_stats=True)\n",
            "    )\n",
            "    (1): BasicBlock(\n",
            "      (conv1): Conv2d(64, 64, kernel_size=(3, 3), stride=(1, 1), padding=(1, 1), bias=False)\n",
            "      (bn1): BatchNorm2d(64, eps=1e-05, momentum=0.1, affine=True, track_running_stats=True)\n",
            "      (relu): ReLU(inplace=True)\n",
            "      (conv2): Conv2d(64, 64, kernel_size=(3, 3), stride=(1, 1), padding=(1, 1), bias=False)\n",
            "      (bn2): BatchNorm2d(64, eps=1e-05, momentum=0.1, affine=True, track_running_stats=True)\n",
            "    )\n",
            "  )\n",
            "  (layer2): Sequential(\n",
            "    (0): BasicBlock(\n",
            "      (conv1): Conv2d(64, 128, kernel_size=(3, 3), stride=(2, 2), padding=(1, 1), bias=False)\n",
            "      (bn1): BatchNorm2d(128, eps=1e-05, momentum=0.1, affine=True, track_running_stats=True)\n",
            "      (relu): ReLU(inplace=True)\n",
            "      (conv2): Conv2d(128, 128, kernel_size=(3, 3), stride=(1, 1), padding=(1, 1), bias=False)\n",
            "      (bn2): BatchNorm2d(128, eps=1e-05, momentum=0.1, affine=True, track_running_stats=True)\n",
            "      (downsample): Sequential(\n",
            "        (0): Conv2d(64, 128, kernel_size=(1, 1), stride=(2, 2), bias=False)\n",
            "        (1): BatchNorm2d(128, eps=1e-05, momentum=0.1, affine=True, track_running_stats=True)\n",
            "      )\n",
            "    )\n",
            "    (1): BasicBlock(\n",
            "      (conv1): Conv2d(128, 128, kernel_size=(3, 3), stride=(1, 1), padding=(1, 1), bias=False)\n",
            "      (bn1): BatchNorm2d(128, eps=1e-05, momentum=0.1, affine=True, track_running_stats=True)\n",
            "      (relu): ReLU(inplace=True)\n",
            "      (conv2): Conv2d(128, 128, kernel_size=(3, 3), stride=(1, 1), padding=(1, 1), bias=False)\n",
            "      (bn2): BatchNorm2d(128, eps=1e-05, momentum=0.1, affine=True, track_running_stats=True)\n",
            "    )\n",
            "  )\n",
            "  (layer3): Sequential(\n",
            "    (0): BasicBlock(\n",
            "      (conv1): Conv2d(128, 256, kernel_size=(3, 3), stride=(2, 2), padding=(1, 1), bias=False)\n",
            "      (bn1): BatchNorm2d(256, eps=1e-05, momentum=0.1, affine=True, track_running_stats=True)\n",
            "      (relu): ReLU(inplace=True)\n",
            "      (conv2): Conv2d(256, 256, kernel_size=(3, 3), stride=(1, 1), padding=(1, 1), bias=False)\n",
            "      (bn2): BatchNorm2d(256, eps=1e-05, momentum=0.1, affine=True, track_running_stats=True)\n",
            "      (downsample): Sequential(\n",
            "        (0): Conv2d(128, 256, kernel_size=(1, 1), stride=(2, 2), bias=False)\n",
            "        (1): BatchNorm2d(256, eps=1e-05, momentum=0.1, affine=True, track_running_stats=True)\n",
            "      )\n",
            "    )\n",
            "    (1): BasicBlock(\n",
            "      (conv1): Conv2d(256, 256, kernel_size=(3, 3), stride=(1, 1), padding=(1, 1), bias=False)\n",
            "      (bn1): BatchNorm2d(256, eps=1e-05, momentum=0.1, affine=True, track_running_stats=True)\n",
            "      (relu): ReLU(inplace=True)\n",
            "      (conv2): Conv2d(256, 256, kernel_size=(3, 3), stride=(1, 1), padding=(1, 1), bias=False)\n",
            "      (bn2): BatchNorm2d(256, eps=1e-05, momentum=0.1, affine=True, track_running_stats=True)\n",
            "    )\n",
            "  )\n",
            "  (layer4): Sequential(\n",
            "    (0): BasicBlock(\n",
            "      (conv1): Conv2d(256, 512, kernel_size=(3, 3), stride=(2, 2), padding=(1, 1), bias=False)\n",
            "      (bn1): BatchNorm2d(512, eps=1e-05, momentum=0.1, affine=True, track_running_stats=True)\n",
            "      (relu): ReLU(inplace=True)\n",
            "      (conv2): Conv2d(512, 512, kernel_size=(3, 3), stride=(1, 1), padding=(1, 1), bias=False)\n",
            "      (bn2): BatchNorm2d(512, eps=1e-05, momentum=0.1, affine=True, track_running_stats=True)\n",
            "      (downsample): Sequential(\n",
            "        (0): Conv2d(256, 512, kernel_size=(1, 1), stride=(2, 2), bias=False)\n",
            "        (1): BatchNorm2d(512, eps=1e-05, momentum=0.1, affine=True, track_running_stats=True)\n",
            "      )\n",
            "    )\n",
            "    (1): BasicBlock(\n",
            "      (conv1): Conv2d(512, 512, kernel_size=(3, 3), stride=(1, 1), padding=(1, 1), bias=False)\n",
            "      (bn1): BatchNorm2d(512, eps=1e-05, momentum=0.1, affine=True, track_running_stats=True)\n",
            "      (relu): ReLU(inplace=True)\n",
            "      (conv2): Conv2d(512, 512, kernel_size=(3, 3), stride=(1, 1), padding=(1, 1), bias=False)\n",
            "      (bn2): BatchNorm2d(512, eps=1e-05, momentum=0.1, affine=True, track_running_stats=True)\n",
            "    )\n",
            "  )\n",
            "  (avgpool): AdaptiveAvgPool2d(output_size=(1, 1))\n",
            "  (fc): Linear(in_features=512, out_features=1, bias=True)\n",
            ")\n"
          ]
        }
      ],
      "source": [
        "import torch\n",
        "\n",
        "# Replace the head\n",
        "model.fc = nn.Linear(model.fc.in_features, 1)  # 2 classes\n",
        "\n",
        "# Move to GPU if available\n",
        "device = torch.device(\"cuda\" if torch.cuda.is_available() else \"cpu\")\n",
        "model = model.to(device)\n",
        "\n",
        "print(model)"
      ]
    },
    {
      "cell_type": "markdown",
      "id": "7961a9ab",
      "metadata": {
        "papermill": {
          "duration": 0.004037,
          "end_time": "2025-02-14T19:28:10.749760",
          "exception": false,
          "start_time": "2025-02-14T19:28:10.745723",
          "status": "completed"
        },
        "tags": [],
        "id": "7961a9ab"
      },
      "source": [
        "## 3️⃣ Training and Validation Loops"
      ]
    },
    {
      "cell_type": "code",
      "execution_count": null,
      "id": "5da7f047",
      "metadata": {
        "execution": {
          "iopub.execute_input": "2025-02-14T19:28:10.759451Z",
          "iopub.status.busy": "2025-02-14T19:28:10.759191Z",
          "iopub.status.idle": "2025-02-14T19:28:10.766270Z",
          "shell.execute_reply": "2025-02-14T19:28:10.765621Z"
        },
        "papermill": {
          "duration": 0.013549,
          "end_time": "2025-02-14T19:28:10.767500",
          "exception": false,
          "start_time": "2025-02-14T19:28:10.753951",
          "status": "completed"
        },
        "tags": [],
        "id": "5da7f047"
      },
      "outputs": [],
      "source": [
        "from tqdm import tqdm    # Shows progress bar\n",
        "\n",
        "# 🔹 Training Loop\n",
        "def train_one_epoch(model, dataloader, criterion, optimizer, device):\n",
        "    model.train()\n",
        "    total_loss = 0\n",
        "    correct = 0\n",
        "    total = 0\n",
        "\n",
        "    for images, labels in tqdm(dataloader):\n",
        "        images, labels = images.to(device), labels.to(device, torch.float)\n",
        "\n",
        "\n",
        "        outputs = model(images).squeeze()  # The model outputs in shape [batch_size,1]. We convert them to [batch_size,] so the loss accepts them.\n",
        "        loss = criterion(outputs, labels)\n",
        "\n",
        "        optimizer.zero_grad()\n",
        "        loss.backward()\n",
        "        optimizer.step()\n",
        "\n",
        "        total_loss += loss.item()\n",
        "\n",
        "        # Track accuracy\n",
        "        predictions = torch.sigmoid(outputs) > 0.5  # Get predicted class\n",
        "        correct += (predictions == labels).sum().item()\n",
        "        total += labels.size(0)\n",
        "\n",
        "    avg_loss = total_loss / len(dataloader)\n",
        "    accuracy = 100 * correct / total\n",
        "    return avg_loss, accuracy\n",
        "\n",
        "# 🔹 Validation Loop\n",
        "def validate(model, dataloader, criterion, device):\n",
        "    model.eval()\n",
        "    total_loss = 0\n",
        "    correct = 0\n",
        "    total = 0\n",
        "\n",
        "    with torch.no_grad():\n",
        "        for images, labels in dataloader:\n",
        "            images, labels = images.to(device), labels.to(device, torch.float)\n",
        "\n",
        "            outputs = model(images).squeeze()  # The model outputs in shape [batch_size,1]. We convert them to [batch_size,] so the loss accepts them.\n",
        "            loss = criterion(outputs, labels)\n",
        "            total_loss += loss.item()\n",
        "\n",
        "            # Compute accuracy\n",
        "            predictions = torch.sigmoid(outputs) > 0.5  # Get predicted class\n",
        "            correct += (predictions == labels).sum().item()\n",
        "            total += labels.size(0)\n",
        "\n",
        "    avg_loss = total_loss / len(dataloader)\n",
        "    accuracy = 100 * correct / total\n",
        "    return avg_loss, accuracy\n"
      ]
    },
    {
      "cell_type": "markdown",
      "id": "6b48d4b9",
      "metadata": {
        "papermill": {
          "duration": 0.004127,
          "end_time": "2025-02-14T19:28:10.775860",
          "exception": false,
          "start_time": "2025-02-14T19:28:10.771733",
          "status": "completed"
        },
        "tags": [],
        "id": "6b48d4b9"
      },
      "source": [
        "## 4️⃣ Running Training"
      ]
    },
    {
      "cell_type": "code",
      "execution_count": null,
      "id": "1fb2b7ff",
      "metadata": {
        "execution": {
          "iopub.execute_input": "2025-02-14T19:28:10.785202Z",
          "iopub.status.busy": "2025-02-14T19:28:10.784988Z",
          "iopub.status.idle": "2025-02-14T19:29:10.318893Z",
          "shell.execute_reply": "2025-02-14T19:29:10.317781Z"
        },
        "papermill": {
          "duration": 59.540311,
          "end_time": "2025-02-14T19:29:10.320363",
          "exception": false,
          "start_time": "2025-02-14T19:28:10.780052",
          "status": "completed"
        },
        "tags": [],
        "id": "1fb2b7ff",
        "outputId": "7d3b8c13-ef37-40fa-fff7-f307c00157dc"
      },
      "outputs": [
        {
          "name": "stderr",
          "output_type": "stream",
          "text": [
            "100%|██████████| 23/23 [00:08<00:00,  2.66it/s]\n"
          ]
        },
        {
          "name": "stdout",
          "output_type": "stream",
          "text": [
            "Epoch 1/10: Train Loss=0.6881, Train Accuracy=71.79%, Val Loss=1.4474, Val Accuracy=53.33%\n"
          ]
        },
        {
          "name": "stderr",
          "output_type": "stream",
          "text": [
            "100%|██████████| 23/23 [00:05<00:00,  4.48it/s]\n"
          ]
        },
        {
          "name": "stdout",
          "output_type": "stream",
          "text": [
            "Epoch 2/10: Train Loss=0.4167, Train Accuracy=81.42%, Val Loss=0.4185, Val Accuracy=85.00%\n"
          ]
        },
        {
          "name": "stderr",
          "output_type": "stream",
          "text": [
            "100%|██████████| 23/23 [00:04<00:00,  4.78it/s]\n"
          ]
        },
        {
          "name": "stdout",
          "output_type": "stream",
          "text": [
            "Epoch 3/10: Train Loss=0.3106, Train Accuracy=86.17%, Val Loss=0.3900, Val Accuracy=81.67%\n"
          ]
        },
        {
          "name": "stderr",
          "output_type": "stream",
          "text": [
            "100%|██████████| 23/23 [00:04<00:00,  4.86it/s]\n"
          ]
        },
        {
          "name": "stdout",
          "output_type": "stream",
          "text": [
            "Epoch 4/10: Train Loss=0.2386, Train Accuracy=89.39%, Val Loss=0.3620, Val Accuracy=88.33%\n"
          ]
        },
        {
          "name": "stderr",
          "output_type": "stream",
          "text": [
            "100%|██████████| 23/23 [00:04<00:00,  4.99it/s]\n"
          ]
        },
        {
          "name": "stdout",
          "output_type": "stream",
          "text": [
            "Epoch 5/10: Train Loss=0.2305, Train Accuracy=90.08%, Val Loss=0.8350, Val Accuracy=77.22%\n"
          ]
        },
        {
          "name": "stderr",
          "output_type": "stream",
          "text": [
            "100%|██████████| 23/23 [00:04<00:00,  5.04it/s]\n"
          ]
        },
        {
          "name": "stdout",
          "output_type": "stream",
          "text": [
            "Epoch 6/10: Train Loss=0.2436, Train Accuracy=89.94%, Val Loss=0.3332, Val Accuracy=88.33%\n"
          ]
        },
        {
          "name": "stderr",
          "output_type": "stream",
          "text": [
            "100%|██████████| 23/23 [00:04<00:00,  4.93it/s]\n"
          ]
        },
        {
          "name": "stdout",
          "output_type": "stream",
          "text": [
            "Epoch 7/10: Train Loss=0.2173, Train Accuracy=92.18%, Val Loss=0.4206, Val Accuracy=83.89%\n"
          ]
        },
        {
          "name": "stderr",
          "output_type": "stream",
          "text": [
            "100%|██████████| 23/23 [00:04<00:00,  4.85it/s]\n"
          ]
        },
        {
          "name": "stdout",
          "output_type": "stream",
          "text": [
            "Epoch 8/10: Train Loss=0.1925, Train Accuracy=90.92%, Val Loss=0.4560, Val Accuracy=83.33%\n"
          ]
        },
        {
          "name": "stderr",
          "output_type": "stream",
          "text": [
            "100%|██████████| 23/23 [00:04<00:00,  5.02it/s]\n"
          ]
        },
        {
          "name": "stdout",
          "output_type": "stream",
          "text": [
            "Epoch 9/10: Train Loss=0.1030, Train Accuracy=96.09%, Val Loss=0.4683, Val Accuracy=85.56%\n"
          ]
        },
        {
          "name": "stderr",
          "output_type": "stream",
          "text": [
            "100%|██████████| 23/23 [00:04<00:00,  5.04it/s]\n"
          ]
        },
        {
          "name": "stdout",
          "output_type": "stream",
          "text": [
            "Epoch 10/10: Train Loss=0.1011, Train Accuracy=96.37%, Val Loss=0.9639, Val Accuracy=73.89%\n"
          ]
        }
      ],
      "source": [
        "import torch.optim as optim\n",
        "\n",
        "# Define loss function and optimizer\n",
        "criterion = nn.BCEWithLogitsLoss()  # Binary Classification loss (Use when there is no softmax/sigmoid in the last layer)\n",
        "optimizer = optim.AdamW(model.parameters(), lr=0.001)  # AdamW optimizer\n",
        "num_epochs = 10 # Number of epochs\n",
        "\n",
        "\n",
        "# Lists to store metrics\n",
        "train_losses = []\n",
        "val_losses = []\n",
        "train_accuracies = []\n",
        "val_accuracies = []\n",
        "\n",
        "# Training process\n",
        "for epoch in range(num_epochs):\n",
        "    train_loss, train_accuracy = train_one_epoch(model, train_loader, criterion, optimizer, device)\n",
        "    val_loss, val_accuracy = validate(model, valid_loader, criterion, device)\n",
        "\n",
        "    # Store metrics\n",
        "    train_losses.append(train_loss)\n",
        "    val_losses.append(val_loss)\n",
        "    train_accuracies.append(train_accuracy)\n",
        "    val_accuracies.append(val_accuracy)\n",
        "\n",
        "    print(f\"Epoch {epoch+1}/{num_epochs}: \"\n",
        "          f\"Train Loss={train_loss:.4f}, Train Accuracy={train_accuracy:.2f}%, \"\n",
        "          f\"Val Loss={val_loss:.4f}, Val Accuracy={val_accuracy:.2f}%\")\n"
      ]
    },
    {
      "cell_type": "code",
      "execution_count": null,
      "id": "54350e7a",
      "metadata": {
        "execution": {
          "iopub.execute_input": "2025-02-14T19:29:10.353929Z",
          "iopub.status.busy": "2025-02-14T19:29:10.353636Z",
          "iopub.status.idle": "2025-02-14T19:29:10.754261Z",
          "shell.execute_reply": "2025-02-14T19:29:10.753348Z"
        },
        "papermill": {
          "duration": 0.418775,
          "end_time": "2025-02-14T19:29:10.755891",
          "exception": false,
          "start_time": "2025-02-14T19:29:10.337116",
          "status": "completed"
        },
        "tags": [],
        "id": "54350e7a",
        "outputId": "17f5db1b-4d67-4ef5-bba9-2eadc902daef"
      },
      "outputs": [
        {
          "data": {
            "image/png": "[encoded data removed]",
            "text/plain": [
              "<Figure size 1200x500 with 2 Axes>"
            ]
          },
          "metadata": {},
          "output_type": "display_data"
        }
      ],
      "source": [
        "import matplotlib.pyplot as plt\n",
        "\n",
        "# Plot loss curve\n",
        "plt.figure(figsize=(12, 5))\n",
        "plt.subplot(1, 2, 1)\n",
        "plt.plot(range(1, num_epochs+1), train_losses, label=\"Train Loss\", marker='o')\n",
        "plt.plot(range(1, num_epochs+1), val_losses, label=\"Validation Loss\", marker='o')\n",
        "plt.xlabel(\"Epochs\")\n",
        "plt.ylabel(\"Loss\")\n",
        "plt.title(\"Loss Curve\")\n",
        "plt.legend()\n",
        "\n",
        "# Plot accuracy curve\n",
        "plt.subplot(1, 2, 2)\n",
        "plt.plot(range(1, num_epochs+1), train_accuracies, label=\"Train Accuracy\", marker='o')\n",
        "plt.plot(range(1, num_epochs+1), val_accuracies, label=\"Validation Accuracy\", marker='o')\n",
        "plt.xlabel(\"Epochs\")\n",
        "plt.ylabel(\"Accuracy (%)\")\n",
        "plt.title(\"Accuracy Curve\")\n",
        "plt.legend()\n",
        "\n",
        "plt.show()\n"
      ]
    }
  ],
  "metadata": {
    "accelerator": "GPU",
    "colab": {
      "gpuType": "T4",
      "provenance": []
    },
    "kaggle": {
      "accelerator": "gpu",
      "dataSources": [
        {
          "databundleVersionId": 7068441,
          "datasetId": 4012063,
          "sourceId": 6981583,
          "sourceType": "datasetVersion"
        }
      ],
      "dockerImageVersionId": 30887,
      "isGpuEnabled": true,
      "isInternetEnabled": true,
      "language": "python",
      "sourceType": "notebook"
    },
    "kernelspec": {
      "display_name": "Python 3",
      "language": "python",
      "name": "python3"
    },
    "language_info": {
      "codemirror_mode": {
        "name": "ipython",
        "version": 3
      },
      "file_extension": ".py",
      "mimetype": "text/x-python",
      "name": "python",
      "nbconvert_exporter": "python",
      "pygments_lexer": "ipython3",
      "version": "3.10.12"
    },
    "papermill": {
      "default_parameters": {},
      "duration": 75.799551,
      "end_time": "2025-02-14T19:29:13.368512",
      "environment_variables": {},
      "exception": null,
      "input_path": "__notebook__.ipynb",
      "output_path": "__notebook__.ipynb",
      "parameters": {},
      "start_time": "2025-02-14T19:27:57.568961",
      "version": "2.6.0"
    }
  },
  "nbformat": 4,
  "nbformat_minor": 5
}