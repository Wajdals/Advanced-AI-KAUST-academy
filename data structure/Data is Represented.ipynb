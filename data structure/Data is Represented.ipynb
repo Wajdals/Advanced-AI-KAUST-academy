{
  "cells": [
    {
      "cell_type": "markdown",
      "metadata": {
        "id": "X-I-Ybaw72jv"
      },
      "source": [
        "![image.png](https://i.imgur.com/a3uAqnb.png)"
      ]
    },
    {
      "cell_type": "markdown",
      "metadata": {
        "id": "0QCrWLYn72j_"
      },
      "source": [
        "# Pytorch Basics\n",
        "---"
      ]
    },
    {
      "cell_type": "markdown",
      "metadata": {
        "id": "v2Oa9R9y72kC"
      },
      "source": [
        "# **📌 How Data is Represented in Deep Learning?**\n",
        "\n",
        "Deep learning models process data in the form of **tensors** (multi-dimensional arrays).  ## معناه vector : one column\n",
        "The shape of the tensor depends on the type of data being used.\n",
        "\n",
        "## **🔹 1️⃣ Tabular Data (Structured Data)**\n",
        "- **Shape:** `(batch_size, features) ## batch raw , feature columns\n",
        "- Each **row** is a sample, and each **column** is a feature.\n",
        "- **Handled by:** `nn.Linear` (Fully Connected Layers).\n",
        "\n",
        "## **🔹 2️⃣ Image Data (Computer Vision)**\n",
        "- **Shape:** `(batch_size, channels, height, width)` ## channels اللون\n",
        "  - **RGB Image:** `channels = 3` (Red, Green, Blue).\n",
        "  - **Grayscale Image:** `channels = 1` (sometimes omitted).\n",
        "- **Handled by:** `nn.Conv2d` (Convolutional Layers).\n",
        "\n",
        "| **Data Type** | **Tensor Shape** | **Handled by** |\n",
        "|--------------|-----------------|---------------|\n",
        "| **Tabular Data** | `(batch_size, features)` | `nn.Linear` |\n",
        "| **Image Data** | `(batch_size, channels, height, width)` | `nn.Conv2d` |\n",
        "\n",
        "✅ Each data type has a specific tensor representation and requires different processing techniques.\n"
      ]
    },
    {
      "cell_type": "markdown",
      "metadata": {
        "id": "qnLjcn4C72kI"
      },
      "source": [
        "# **📌 How to Change the Dimensions in PyTorch?**\n",
        "\n",
        "Manipulating tensor shapes is essential in deep learning. PyTorch provides several functions to modify tensor dimensions.\n",
        "\n",
        "## **🔹 1️⃣ Flatten**\n",
        "- Converts **any shape** to `(batch_size, features)`. ## multiple dim covert to vector\n",
        "- **Example:**  \n",
        "  `(batch_size, channels, height, width) → (batch_size, features)`\n",
        "## ضرب شانل هايت و ودث ببعض صار كيذا بسبب\n",
        "\n",
        "\n",
        "## **🔹 2️⃣ Squeeze**\n",
        "- **Removes dimensions** with size `1`.\n",
        "- **Example:**  نوخر الزايد البيكسل\n",
        "  `(1, 32, 3, 28, 28) → (32, 3, 28, 28)`\n",
        "\n",
        "## **🔹 3️⃣ Unsqueeze**\n",
        "- **Adds a dimension** with size `1` at a specified position.\n",
        "- **Example:**  \n",
        "  `(3, 28, 28) → (1, 3, 28, 28)`\n",
        "\n",
        "## **🔹 4️⃣ Permute**\n",
        "- **Reorders the dimensions** of a tensor by specifying the **new order of indices**.  بالضرب\n",
        "- **Example:**  \n",
        "  `(32, 28, 28, 3) → permute(0, 3, 1, 2) → (32, 3, 28, 28)`\n",
        "\n",
        "## **🔹 5️⃣ View (works similar to reshape)**\n",
        "- **Reshapes a tensor freely** while maintaining the same number of elements.\n",
        "- **Example:**  يشبه فلاتن\n",
        "  `(32, 28, 28, 3) → view(-1, 28*28*3) → `(32, 28*28*3)`\n",
        "\n",
        "| **Operation** | **Function** | **Purpose** | **Example Transformation** |\n",
        "|--------------|-------------|-------------|----------------------------|\n",
        "| **Flatten** | `.flatten()` | Convert tensor to (batch, features) | `(32, 3, 28, 28) → (32, 3*28*28)` |\n",
        "| **Squeeze** | `.squeeze()` | Remove dims of size 1 | `(1, 3, 28, 28) → (3, 28, 28)` |\n",
        "| **Unsqueeze** | `.unsqueeze(dim)` | Add a dim of size 1 | `(3, 28, 28) → (1, 3, 28, 28)` |\n",
        "| **Permute** | `.permute(dims)` | Change order of dimensions | `(32, 28, 28, 3) → (32, 3, 28, 28)` |\n",
        "| **View** | `.view(shape)` | Reshape freely | `(32, 28, 28, 3) → (32, 28*28*3)` |\n"
      ]
    },
    {
      "cell_type": "code",
      "execution_count": null,
      "metadata": {
        "execution": {
          "iopub.execute_input": "2025-02-01T13:52:26.524571Z",
          "iopub.status.busy": "2025-02-01T13:52:26.524183Z",
          "iopub.status.idle": "2025-02-01T13:52:30.375828Z",
          "shell.execute_reply": "2025-02-01T13:52:30.374699Z",
          "shell.execute_reply.started": "2025-02-01T13:52:26.524542Z"
        },
        "trusted": true,
        "id": "q_mbbCNL72kL",
        "outputId": "a3dc93e9-2de7-4e40-d7cb-d87f57958b70",
        "colab": {
          "base_uri": "https://localhost:8080/"
        }
      },
      "outputs": [
        {
          "output_type": "stream",
          "name": "stdout",
          "text": [
            "Flatten: torch.Size([32, 2352])\n",
            "Squeeze: torch.Size([3, 28, 28])\n",
            "Unsqueeze: torch.Size([1, 3, 28, 28])\n",
            "Permute: torch.Size([32, 3, 28, 28])\n",
            "View: torch.Size([32, 2352])\n"
          ]
        }
      ],
      "source": [
        "import torch\n",
        "\n",
        "# 1️⃣ Flatten - Convert any shape to (batch_size, features)\n",
        "x = torch.randn(32, 3, 28, 28)\n",
        "x_flat = x.flatten(start_dim=1) # فلات # بدون ستارت ديم بيعطي سكلاير اخر رقم يبين ماتركس\n",
        "print(\"Flatten:\", x_flat.shape)  # (32, 2352) ناتج  32 نفسه و الباقي ينضربو\n",
        "\n",
        "# 2️⃣ Squeeze - Remove dimensions with size 1\n",
        "x = torch.randn(1, 3, 28, 28)\n",
        "x_sq = x.squeeze()\n",
        "print(\"Squeeze:\", x_sq.shape)  # (3, 28, 28)\n",
        "\n",
        "# 3️⃣ Unsqueeze - Add a new dimension of size 1\n",
        "x = torch.randn(3, 28, 28)\n",
        "x_unsq = x.unsqueeze(0)\n",
        "print(\"Unsqueeze:\", x_unsq.shape)  # (1, 3, 28, 28)\n",
        "\n",
        "# 4️⃣ Permute - Reorder dimensions   يغير ترتيب صورة\n",
        "x = torch.randn(32, 28, 28, 3)  # (batch, height, width, channels)\n",
        "x_perm = x.permute(0, 3, 1, 2)  # (batch, channels, height, width) هذا البراميتر الي يتعامل معها باي تورش\n",
        "print(\"Permute:\", x_perm.shape)  # (32, 3, 28, 28)\n",
        "\n",
        "# 5️⃣ View - Reshape freely while keeping same number of elements\n",
        "x = torch.randn(32, 28, 28, 3)\n",
        "x_view = x.view(32, -1)  # Flatten all except batch ## هنا نحدد ديمانشن الي نبيه و الي ما نبيه نقوله بالسالب علشان نضربه لو حطينا رقم عادي يرفضه\n",
        "print(\"View:\", x_view.shape)  # (32, 28*28*3)\n"
      ]
    },
    {
      "cell_type": "markdown",
      "metadata": {
        "id": "0ug_thgF72kS"
      },
      "source": [
        "### 🔹 Changing Data Type or Moving Data/Model to CPU/GPU  \n",
        "\n",
        "PyTorch allows you to **change the datatype** of a tensor and **move it between CPU and GPU** using `.to()`.  \n",
        "\n",
        "---\n",
        "\n",
        "### ✅ **Change Datatype**\n",
        "Use `.to(dtype)` to convert a tensor's data type."
      ]
    },
    {
      "cell_type": "code",
      "execution_count": null,
      "metadata": {
        "execution": {
          "iopub.execute_input": "2025-02-01T13:52:30.377553Z",
          "iopub.status.busy": "2025-02-01T13:52:30.377089Z",
          "iopub.status.idle": "2025-02-01T13:52:30.397024Z",
          "shell.execute_reply": "2025-02-01T13:52:30.395751Z",
          "shell.execute_reply.started": "2025-02-01T13:52:30.377523Z"
        },
        "trusted": true,
        "id": "CXHxS3Pn72kU",
        "outputId": "375a89c2-7480-4f6f-c45d-0525c0c03a0a",
        "colab": {
          "base_uri": "https://localhost:8080/"
        }
      },
      "outputs": [
        {
          "output_type": "stream",
          "name": "stdout",
          "text": [
            "torch.float32\n",
            "torch.float16\n"
          ]
        }
      ],
      "source": [
        "import torch\n",
        "\n",
        "# Create a float32 tensor  تينسور افضل مع جي بي يو\n",
        "x = torch.tensor([1.2, 2.3, 3.4], dtype=torch.float32)\n",
        "print(x.dtype)  # Output: torch.float32\n",
        "\n",
        "# Convert to float16\n",
        "x_half = x.to(torch.float16) # 16 افضل للذاكره و افضل لل جي بي يو\n",
        "print(x_half.dtype)  # Output: torch.float16"
      ]
    },
    {
      "cell_type": "markdown",
      "metadata": {
        "id": "BqaittwE72kX"
      },
      "source": [
        "### ✅ **Move Tensors to GPU (if available)**\n",
        "Use `.to(device)` to move a tensor to GPU for faster computation.\n",
        "\n",
        "**GPUs are faster and more efficient** in most cases when training or inferencing deep learning models.  \n"
      ]
    },
    {
      "cell_type": "code",
      "execution_count": null,
      "metadata": {
        "execution": {
          "iopub.execute_input": "2025-02-01T13:52:30.399777Z",
          "iopub.status.busy": "2025-02-01T13:52:30.399396Z",
          "iopub.status.idle": "2025-02-01T13:52:30.410675Z",
          "shell.execute_reply": "2025-02-01T13:52:30.409468Z",
          "shell.execute_reply.started": "2025-02-01T13:52:30.399747Z"
        },
        "trusted": true,
        "id": "OXDF326h72kZ",
        "outputId": "8b6791e3-dd7b-46a2-a4d7-b2b034ec555b",
        "colab": {
          "base_uri": "https://localhost:8080/"
        }
      },
      "outputs": [
        {
          "output_type": "stream",
          "name": "stdout",
          "text": [
            "cuda:0\n"
          ]
        },
        {
          "output_type": "execute_result",
          "data": {
            "text/plain": [
              "device(type='cuda', index=0)"
            ]
          },
          "metadata": {},
          "execution_count": 8
        }
      ],
      "source": [
        "# Automatically select CPU or GPU\n",
        "device = torch.device(\"cuda\" if torch.cuda.is_available() else \"cpu\")\n",
        "\n",
        "# Create a tensor and move it to GPU\n",
        "x_gpu = x.to(device)\n",
        "print(x_gpu.device)  # Output: cuda:0 (if GPU is available) or cpu\n",
        "x_gpu.device"
      ]
    },
    {
      "cell_type": "markdown",
      "metadata": {
        "id": "d_-I7DxF72kc"
      },
      "source": [
        "Note: When training a model, always move BOTH the model and data to the same device. Otherwise, you will get an error like this:\n",
        "\n",
        "`RuntimeError: Expected all tensors to be on the same device, but found at least two devices, cuda:0 and cpu!`"
      ]
    },
    {
      "cell_type": "markdown",
      "metadata": {
        "id": "EpGVxymv72ke"
      },
      "source": [
        "### 🧠 AI Layers\n",
        "\n",
        "PyTorch provides various **neural network layers** to build deep learning models. Below are some of the most commonly used layers.\n",
        "\n",
        "---\n",
        "\n",
        "## 🔹 1️⃣ Linear Layer (`nn.Linear`)\n",
        "\n",
        "### 📌 **Usage**\n",
        "1. Used for **fully connected layers** (Dense layers).\n",
        "2. Typically used as the **final layer** in CNNs for classification."
      ]
    },
    {
      "cell_type": "code",
      "execution_count": null,
      "metadata": {
        "execution": {
          "iopub.execute_input": "2025-02-01T13:52:30.412554Z",
          "iopub.status.busy": "2025-02-01T13:52:30.412185Z",
          "iopub.status.idle": "2025-02-01T13:52:30.463528Z",
          "shell.execute_reply": "2025-02-01T13:52:30.462470Z",
          "shell.execute_reply.started": "2025-02-01T13:52:30.412518Z"
        },
        "trusted": true,
        "id": "WrvLWb1d72kf",
        "outputId": "f0d015c3-66fe-4e0c-d145-af089584a478",
        "colab": {
          "base_uri": "https://localhost:8080/"
        }
      },
      "outputs": [
        {
          "output_type": "stream",
          "name": "stdout",
          "text": [
            "Input Shape: torch.Size([16, 5])\n",
            "Output Shape: torch.Size([16, 3])\n"
          ]
        }
      ],
      "source": [
        "# Example\n",
        "\n",
        "import torch\n",
        "import torch.nn as nn\n",
        "\n",
        "# Define a Linear layer\n",
        "linear_layer = nn.Linear(in_features=5, out_features=3)\n",
        "\n",
        "# Random input tensor (batch_size=16, in_features=5) بياناتنا\n",
        "x = torch.randn(16, 5)\n",
        "\n",
        "# Forward pass\n",
        "output = linear_layer(x)\n",
        "\n",
        "print(\"Input Shape:\", x.shape)       # (16, 5)\n",
        "print(\"Output Shape:\", output.shape)  # (16, 3)"
      ]
    },
    {
      "cell_type": "markdown",
      "metadata": {
        "id": "4pqdSA9s72kh"
      },
      "source": [
        "## 🔹 2️⃣ Convolutional Layer (`nn.Conv2d`)\n",
        "\n",
        "\n",
        "###  📌 **Usage**\n",
        "✅ `nn.Conv2d` is used for **feature extraction** in images.  \n",
        "🚫 It **does not perform classification or regression**—you need a `nn.Linear` layer for that.  \n"
      ]
    },
    {
      "cell_type": "code",
      "execution_count": null,
      "metadata": {
        "execution": {
          "iopub.execute_input": "2025-02-01T13:52:30.465080Z",
          "iopub.status.busy": "2025-02-01T13:52:30.464719Z",
          "iopub.status.idle": "2025-02-01T13:52:30.547569Z",
          "shell.execute_reply": "2025-02-01T13:52:30.546561Z",
          "shell.execute_reply.started": "2025-02-01T13:52:30.465047Z"
        },
        "trusted": true,
        "id": "_h2MuHBL72ki",
        "outputId": "1b4cc707-6059-4462-88de-1dc7b8750a6d",
        "colab": {
          "base_uri": "https://localhost:8080/"
        }
      },
      "outputs": [
        {
          "output_type": "stream",
          "name": "stdout",
          "text": [
            "Input Shape: torch.Size([16, 3, 32, 32])\n",
            "Output Shape: torch.Size([16, 16, 30, 30])\n"
          ]
        }
      ],
      "source": [
        "# Example\n",
        "\n",
        "import torch\n",
        "import torch.nn as nn\n",
        "\n",
        "# Define a Conv2D layer فيتشر اكستراكت\n",
        "conv_layer = nn.Conv2d(in_channels=3, out_channels=16, kernel_size=3)\n",
        "\n",
        "# Random input tensor (batch_size=16, channels=3, height=32, width=32)\n",
        "x = torch.randn(16, 3, 32, 32)\n",
        "\n",
        "# Forward pass\n",
        "output = conv_layer(x)\n",
        "\n",
        "print(\"Input Shape:\", x.shape)       # (16, 3, 32, 32)  ## shape changing due to kernal and channels\n",
        "print(\"Output Shape:\", output.shape)  # (16, 16, 30, 30) ## hieght and wedith change since we didnt specify the padding and stride so it is defutl : s=1 , p=0\n"
      ]
    },
    {
      "cell_type": "markdown",
      "metadata": {
        "id": "1g0MvNo-72kk"
      },
      "source": [
        "# **📌 Important Note**\n",
        "When you use **Convolutional layers (`nn.Conv2d`)**, the **output channels tend to be larger** than the input channels (unlike `nn.Linear`).  \n",
        "\n",
        "### **Why?**\n",
        "- Each convolutional layer **extracts more useful features** from the input.\n",
        "- As more filters are applied, the **number of channels increases**.\n",
        "- Meanwhile, **spatial size (height & width) decreases**.\n",
        "\n",
        "✅ **This allows the model to capture richer features while reducing unnecessary spatial details.**\n"
      ]
    },
    {
      "cell_type": "markdown",
      "metadata": {
        "id": "1Q4-o1Ag72kl"
      },
      "source": [
        "The **output image size** after a convolutional layer is calculated using the formula (or you can get it by trial-and-error): k is kernal\n"
      ]
    },
    {
      "cell_type": "markdown",
      "metadata": {
        "id": "lT6vi6es72km"
      },
      "source": [
        "![image.png](https://i.imgur.com/8XKBFBU.jpeg)"
      ]
    },
    {
      "cell_type": "markdown",
      "metadata": {
        "id": "jweShDNm72kn"
      },
      "source": [
        "## 🔹 3️⃣ Pooling (`nn.MaxPool2d` / `nn.AvgPool2d`)**\n",
        "\n",
        "###  📌 **Usage**\n",
        "- **Reduces spatial dimensions** (height & width) while retaining important features.\n",
        "- Typically used **after Conv2D layers** to downsample feature maps."
      ]
    },
    {
      "cell_type": "code",
      "execution_count": null,
      "metadata": {
        "execution": {
          "iopub.execute_input": "2025-02-01T13:52:30.548925Z",
          "iopub.status.busy": "2025-02-01T13:52:30.548526Z",
          "iopub.status.idle": "2025-02-01T13:52:30.569245Z",
          "shell.execute_reply": "2025-02-01T13:52:30.568050Z",
          "shell.execute_reply.started": "2025-02-01T13:52:30.548885Z"
        },
        "trusted": true,
        "id": "9tCGkJgK72ko",
        "outputId": "40fa7e60-c087-4a55-87f3-a21015fa5489",
        "colab": {
          "base_uri": "https://localhost:8080/"
        }
      },
      "outputs": [
        {
          "output_type": "stream",
          "name": "stdout",
          "text": [
            "After Conv2D: torch.Size([2, 16, 32, 32])\n",
            "After ReLU: torch.Size([2, 16, 32, 32])\n",
            "After Pooling: torch.Size([2, 16, 16, 16])\n"
          ]
        }
      ],
      "source": [
        "import torch\n",
        "import torch.nn as nn\n",
        "\n",
        "###  pooling : ( down-sampling ) to have less computaion نسوي كودينق هذا الانه نمبر اوف فتشر يزيد\n",
        "# و نستعمل maxpool2d and avgpool2d\n",
        "\n",
        "# Define layers\n",
        "conv = nn.Conv2d(in_channels=3, out_channels=16, kernel_size=3, stride=1, padding=1)\n",
        "relu = nn.ReLU()    ## An old friend ;)     Do you remember why do we need it here? non-linearty\n",
        "pool = nn.MaxPool2d(kernel_size=2, stride=2)\n",
        "\n",
        "# Sample input tensor (batch_size=2, channels=3, height=32, width=32)\n",
        "x = torch.randn(2, 3, 32, 32)\n",
        "\n",
        "# 🔹 Step 1: Convolution\n",
        "x = conv(x)\n",
        "print(\"After Conv2D:\", x.shape)  # (2, 16, 32, 32)\n",
        "\n",
        "# 🔹 Step 2: ReLU Activation\n",
        "x = relu(x)\n",
        "print(\"After ReLU:\", x.shape)  # (2, 16, 32, 32)\n",
        "\n",
        "# 🔹 Step 3: Pooling (Reduces spatial size)\n",
        "x = pool(x)\n",
        "print(\"After Pooling:\", x.shape)  # (2, 16, 16, 16)  # هنا غير من النص علشان الستريد ححدناه 2 مع كرنال ف هو غيره من هنا"
      ]
    },
    {
      "cell_type": "markdown",
      "metadata": {
        "id": "bR8xqpF772kq"
      },
      "source": [
        "### **But wait a minute, if Conv2D extracts the features only, how should we do the classification/regression? 🤔**\n",
        "\n",
        "Conv2D layers are responsible for extracting features (edges, textures, patterns, etc.) from the input data, but they **do not perform classification or regression directly**.  \n",
        "\n",
        "To classify or predict, we need to **map the extracted features** to the desired output using **fully connected layers (`nn.Linear`)** after flattening the feature maps.\n",
        "\n",
        "---\n",
        "\n",
        "### **🏗️ CNN Structure Example**\n",
        "A typical CNN model for classification or regression follows this pattern:\n",
        "\n",
        "1️⃣ **`nn.Conv2d`** → Extracts features .  \n",
        "2️⃣ **`nn.MaxPool2d`** → Reduces feature map size to focus on important information.  \n",
        "3️⃣ **`nn.Conv2d`** → Extracts more features.  \n",
        "\n",
        "... Add more layers if you want\n",
        "\n",
        "4️⃣ **Flatten & `nn.Linear`** → Maps extracted features to output classes or predictions.\n"
      ]
    },
    {
      "cell_type": "markdown",
      "metadata": {
        "id": "uu7zyyOj72kr"
      },
      "source": [
        "![image.png](https://i.imgur.com/fwNdXJs.jpeg)"
      ]
    },
    {
      "cell_type": "markdown",
      "metadata": {
        "id": "vENMXAuJ72kr"
      },
      "source": [
        "\n",
        "---\n",
        "\n",
        "### **🔹 Example: Classification with CNN**\n",
        "| **Layer**                  | **Purpose**                        | **Example Shape Transformation** |\n",
        "|----------------------------|-------------------------------------|-----------------------------------|\n",
        "| **Input Image**            | Raw input                          | `(batch_size, channels, height, width)` |\n",
        "| **`nn.Conv2d`**            | Extract features                   | `(32, 3, 32, 32) → (32, 16, 30, 30)` |\n",
        "| **`nn.MaxPool2d`**         | Downsample feature maps            | `(32, 16, 30, 30) → (32, 16, 15, 15)` |\n",
        "| **`nn.Conv2d`**            | Extract more features              | `(32, 16, 15, 15) → (32, 32, 13, 13)` |\n",
        "| **Flatten**                | Prepare for fully connected layers | `(32, 32, 13, 13) → (32, 32*13*13)` |\n",
        "| **`nn.Linear`**            | Map features to classes/predictions| `(32, 32*13*13) → (32, 10)` (for 10 classes) |\n",
        "\n",
        "\n"
      ]
    },
    {
      "cell_type": "code",
      "execution_count": null,
      "metadata": {
        "execution": {
          "iopub.execute_input": "2025-02-01T13:52:30.571030Z",
          "iopub.status.busy": "2025-02-01T13:52:30.570501Z",
          "iopub.status.idle": "2025-02-01T13:52:30.631073Z",
          "shell.execute_reply": "2025-02-01T13:52:30.629954Z",
          "shell.execute_reply.started": "2025-02-01T13:52:30.570988Z"
        },
        "trusted": true,
        "id": "s2nLp4sR72kt",
        "outputId": "273e6b95-a646-4b6f-afe6-b0331defafd7",
        "colab": {
          "base_uri": "https://localhost:8080/"
        }
      },
      "outputs": [
        {
          "output_type": "stream",
          "name": "stdout",
          "text": [
            "After Conv2D: torch.Size([2, 16, 30, 30])\n",
            "After ReLU: torch.Size([2, 16, 30, 30])\n",
            "After Pooling: torch.Size([2, 16, 15, 15])\n",
            "After Flatten: torch.Size([2, 3600])\n",
            "After Linear (Logits): torch.Size([2, 10])\n",
            "After Softmax (Probabilities): tensor([0.0885, 0.1204, 0.0856, 0.0596, 0.0985, 0.1386, 0.0812, 0.0618, 0.1424,\n",
            "        0.1234], grad_fn=<SelectBackward0>)\n"
          ]
        }
      ],
      "source": [
        "import torch\n",
        "import torch.nn as nn\n",
        "\n",
        "\n",
        " ## الحين كامل مره وحده\n",
        "\n",
        "# نتيجه فيكتور للاحتمالات لكل catergory\n",
        "\n",
        "\n",
        "# Define layers\n",
        "conv = nn.Conv2d(in_channels=3, out_channels=16, kernel_size=3)  # Conv2D layer\n",
        "relu = nn.ReLU()  # Activation function\n",
        "pool = nn.MaxPool2d(kernel_size=2)  # Pooling layer\n",
        "flatten = nn.Flatten()  # Flatten layer to prepare for Linear\n",
        "linear = nn.Linear(16 * 15 * 15, 10)  # Fully connected layer for classification (10 classes)\n",
        "softmax = nn.Softmax(dim=1)  # ## Another old friend ;) للاحتماليات نتيجه  بين 0 و 1\n",
        "\n",
        "# Sample input tensor (batch_size=2, channels=3, height=32, width=32)\n",
        "x = torch.randn(2, 3, 32, 32)\n",
        "\n",
        "# 🔹 Step 1: Convolution\n",
        "x = conv(x)\n",
        "print(\"After Conv2D:\", x.shape)  # (2, 16, 30, 30)\n",
        "\n",
        "# 🔹 Step 2: ReLU Activation\n",
        "x = relu(x)\n",
        "print(\"After ReLU:\", x.shape)  # (2, 16, 30, 30)\n",
        "\n",
        "# 🔹 Step 3: Pooling (Reduces spatial size)\n",
        "x = pool(x)\n",
        "print(\"After Pooling:\", x.shape)  # (2, 16, 15, 15)\n",
        "\n",
        "# 🔹 Step 4: Flatten (Convert to batch_size, features)\n",
        "x = flatten(x)\n",
        "print(\"After Flatten:\", x.shape)  # (2, 16*15*15)\n",
        "\n",
        "# 🔹 Step 5: Fully Connected Layer\n",
        "x = linear(x)\n",
        "print(\"After Linear (Logits):\", x.shape)  # (2, 10) → 10 values, one per class\n",
        "\n",
        "# 🔹 Step 6: Softmax (Convert logits to probabilities)\n",
        "x = softmax(x)\n",
        "print(\"After Softmax (Probabilities):\", x[0])  # Probabilities for each class\n"
      ]
    },
    {
      "cell_type": "markdown",
      "metadata": {
        "id": "Z32KzTXy72kw"
      },
      "source": [
        "# **Great! Now you know how to build a CNN model!**\n",
        "\n",
        "However, PyTorch has a specific structure to organize your workflow.\n",
        "\n",
        "---\n",
        "\n",
        "## **📌 PyTorch Workflow Organization**\n",
        "\n",
        "### **It consists of 4 main components:**\n",
        "1️⃣ **Dataset Class**  \n",
        "- Handles loading and preprocessing data.  \n",
        "- Converts raw data (e.g., images, CSVs) into model-ready tensors.  \n",
        "\n",
        "2️⃣ **Model Class**  \n",
        "- Defines the architecture of your neural network (e.g., layers, activations).  \n",
        "\n",
        "3️⃣ **Training Loop**  \n",
        "- Updates model weights using backpropagation and optimizers.  \n",
        "- Computes the loss for every batch and adjusts the parameters to minimize it.  \n",
        "\n",
        "4️⃣ **Validation Loop**  \n",
        "- Evaluates the model's performance on a validation set.  \n",
        "- Does not update weights but computes metrics like accuracy or loss.  \n",
        "\n",
        "---\n",
        "\n",
        "### **📌 Note:**\n",
        "All the labs will follow this structure. You will just modify the content for different tasks, such as changing datasets, architectures, or loss functions."
      ]
    },
    {
      "cell_type": "markdown",
      "metadata": {
        "id": "8OOFrhJL72kx"
      },
      "source": [
        "# **📌 Dataset Class**\n",
        "\n",
        "- The **Dataset Class** is designed to **load and preprocess only one sample** at a time.  # one raw\n",
        "- The **DataLoader** uses the Dataset Class to load **multiple samples (batches)**. # in batch مره وحده هذا افضل\n"
      ]
    },
    {
      "cell_type": "markdown",
      "metadata": {
        "id": "JZKv88vg72ky"
      },
      "source": [
        "## **1️⃣ It Could Be Ready-to-Use:**"
      ]
    },
    {
      "cell_type": "code",
      "execution_count": null,
      "metadata": {
        "trusted": true,
        "id": "fpFFbxsx72kz",
        "colab": {
          "base_uri": "https://localhost:8080/"
        },
        "outputId": "6bfc154a-1e64-4cc0-dea7-3fe5d8ffd50a"
      },
      "outputs": [
        {
          "output_type": "stream",
          "name": "stdout",
          "text": [
            "Files already downloaded and verified\n",
            "Files already downloaded and verified\n"
          ]
        }
      ],
      "source": [
        "from torchvision.datasets import MNIST\n",
        "\n",
        "train_dataset = MNIST(root=\"./data\", train=True, download=True)\n",
        "test_dataset = MNIST(root=\"./data\", train=False, download=True)\n",
        "\n",
        "# OR\n",
        "\n",
        "\n",
        "from torchvision.datasets import CIFAR10\n",
        "\n",
        "train_dataset = CIFAR10(root=\"./data\", train=True, download=True)\n",
        "test_dataset = CIFAR10(root=\"./data\", train=False, download=True)"
      ]
    },
    {
      "cell_type": "markdown",
      "metadata": {
        "id": "mc87gIzp72k0"
      },
      "source": [
        "## **2️⃣ Or You Have to Define It Yourself (We will explore how to define it in another lab).**"
      ]
    },
    {
      "cell_type": "markdown",
      "metadata": {
        "id": "K4_vBpKs72k7"
      },
      "source": [
        "# **📌 Model Class**\n",
        "---\n",
        "\n",
        "## **📌 Key Components:**\n",
        "1️⃣ **Define Layers (`__init__` method):**  نعرف\n",
        "\n",
        "- Use PyTorch modules (e.g., `nn.Conv2d`, `nn.Linear`) to create the model's architecture.  \n",
        "\n",
        "2️⃣ **Forward Pass (`forward` method):**  يسوي to excute layer by that order\n",
        "- Specify how the input should be fed through the layers step by step.  \n",
        "\n",
        "---"
      ]
    },
    {
      "cell_type": "markdown",
      "metadata": {
        "id": "-zpL5xdr72k8"
      },
      "source": [
        "## **1️⃣ You may define It Yourself:**"
      ]
    },
    {
      "cell_type": "code",
      "execution_count": null,
      "metadata": {
        "execution": {
          "iopub.execute_input": "2025-02-01T13:52:45.676080Z",
          "iopub.status.busy": "2025-02-01T13:52:45.675543Z",
          "iopub.status.idle": "2025-02-01T13:52:45.683583Z",
          "shell.execute_reply": "2025-02-01T13:52:45.682535Z",
          "shell.execute_reply.started": "2025-02-01T13:52:45.676041Z"
        },
        "trusted": true,
        "id": "13bpex6q72k9"
      },
      "outputs": [],
      "source": [
        "import torch\n",
        "import torch.nn as nn\n",
        "\n",
        "# من البدايه raw\n",
        "\n",
        "class CustomModel(nn.Module): # inherit this model from all NN (using this package)\n",
        "    def __init__(self):  # call any method from this self calss\n",
        "        \"\"\"\n",
        "        1️⃣ Define all layers in the model.\n",
        "        \"\"\"\n",
        "        super(CustomModel, self).__init__()\n",
        "\n",
        "        # Convolutional Layer + Activation + Pooling\n",
        "        self.conv1 = nn.Conv2d(in_channels=3, out_channels=16, kernel_size=3, stride=1, padding=1)\n",
        "        self.relu = nn.ReLU()\n",
        "        self.pool = nn.MaxPool2d(kernel_size=2, stride=2)\n",
        "\n",
        "        # Fully Connected Layer\n",
        "        self.fc = nn.Linear(16 * 16 * 16, 10)  # Output 10 classes\n",
        "\n",
        "        # Softmax Layer\n",
        "        self.softmax = nn.Softmax(dim=1)  # Apply along the class dimension\n",
        "\n",
        "    def forward(self, x):  # give it data and excuted using it\n",
        "        \"\"\"\n",
        "        2️⃣ Define the forward pass (how data flows through the model).\n",
        "        \"\"\"\n",
        "        x = self.conv1(x)  # Convolution\n",
        "        x = self.relu(x)  # Activation\n",
        "        x = self.pool(x)  # Pooling\n",
        "        x = torch.flatten(x, start_dim=1)  # Flatten for FC layer\n",
        "        x = self.fc(x)  # Fully connected layer\n",
        "        x = self.softmax(x)  # Convert logits to probabilities\n",
        "        return x  # Returns probability distribution\n"
      ]
    },
    {
      "cell_type": "markdown",
      "metadata": {
        "id": "QRAbw__172k_"
      },
      "source": [
        "###\n",
        "## **2️⃣ Or It Could Be Given Ready-to-Use (Will explore in another lab):**"
      ]
    },
    {
      "cell_type": "code",
      "execution_count": null,
      "metadata": {
        "trusted": true,
        "id": "JabouSk072lA"
      },
      "outputs": [],
      "source": [
        "# Example\n",
        "import torchvision.models as models\n",
        "model = models.resnet18(pretrained=True)"
      ]
    },
    {
      "cell_type": "markdown",
      "metadata": {
        "id": "v4lciTh972lB"
      },
      "source": [
        "# **📌 Training Loop**\n",
        "\n",
        "## **What is the Training Loop?**\n",
        "The **training loop** is responsible for **updating the model's weights** so that it learns to minimize the loss function.\n"
      ]
    },
    {
      "cell_type": "code",
      "execution_count": null,
      "metadata": {
        "execution": {
          "iopub.execute_input": "2025-02-01T13:52:46.279176Z",
          "iopub.status.busy": "2025-02-01T13:52:46.278877Z",
          "iopub.status.idle": "2025-02-01T13:52:46.284659Z",
          "shell.execute_reply": "2025-02-01T13:52:46.283750Z",
          "shell.execute_reply.started": "2025-02-01T13:52:46.279148Z"
        },
        "trusted": true,
        "id": "yVkz0hYl72lC"
      },
      "outputs": [],
      "source": [
        "# backprograsion نعرفه في تدريب مو قبل لما نسوي المودل\n",
        "\n",
        "# we need to set the model in train for it and also for validation we need to set it\n",
        "\n",
        "def train_one_epoch(model, dataloader, criterion, optimizer, device):\n",
        "    model.train()  # Set model to training mode, you will understand why later\n",
        "    total_loss = 0\n",
        "\n",
        "    for images, labels in dataloader:  # اذا بستعمل جي بي يو لازم لازم نودي مودل و البيانات مع بعض ولا بيطلع غلط 🤷‍♀️🤷‍♀️\n",
        "        images, labels = images.to(device), labels.to(device)  # Move data to GPU if available\n",
        "\n",
        "\n",
        "        outputs = model(images)  # Forward pass\n",
        "        loss = criterion(outputs, labels)  # Compute loss\n",
        "\n",
        "\n",
        "        optimizer.zero_grad()  # Reset gradients علشان ما يسوي ابديت من قبل بس نبي هذا باتش\n",
        "        loss.backward()  # Backpropagation (compute gradients)\n",
        "        optimizer.step()  # Update model parameters\n",
        "\n",
        "        # Collect the loss\n",
        "        total_loss += loss.item()\n",
        "\n",
        "    return total_loss / len(dataloader)  # Return average loss\n"
      ]
    },
    {
      "cell_type": "markdown",
      "metadata": {
        "id": "iyRWxHfx72lF"
      },
      "source": [
        "# **📌 Validation Loop**\n",
        "\n",
        "## **What is the Validation Loop?**\n",
        "- The **validation loop** is used to **evaluate model performance** on unseen data.  \n",
        "- Unlike the training loop, **it does NOT update the model’s weights**.  \n",
        "- It helps track **loss and accuracy** to monitor model improvements."
      ]
    },
    {
      "cell_type": "code",
      "execution_count": null,
      "metadata": {
        "execution": {
          "iopub.execute_input": "2025-02-01T13:52:46.286262Z",
          "iopub.status.busy": "2025-02-01T13:52:46.285804Z",
          "iopub.status.idle": "2025-02-01T13:52:46.304261Z",
          "shell.execute_reply": "2025-02-01T13:52:46.303139Z",
          "shell.execute_reply.started": "2025-02-01T13:52:46.286150Z"
        },
        "trusted": true,
        "id": "gkAcY36K72lG"
      },
      "outputs": [],
      "source": [
        "def validate(model, dataloader, criterion, device):\n",
        "    model.eval()  # Set model to evaluation mode, يعرف انه بس تشيك ما توسي ابديت لل weight no , just chck the preformance\n",
        "    total_loss = 0\n",
        "    correct = 0\n",
        "    total = 0\n",
        "\n",
        "    with torch.no_grad():  # Disable gradient calculation\n",
        "        for images, labels in dataloader:\n",
        "            images, labels = images.to(device), labels.to(device)\n",
        "\n",
        "            outputs = model(images)  # Forward pass\n",
        "            loss = criterion(outputs, labels)  # Compute loss\n",
        "            total_loss += loss.item()\n",
        "\n",
        "            # (Optional) Compute accuracy\n",
        "            predictions = outputs.argmax(dim=1)  # Get class with highest probability ترتيب فيكتور و تشوف اكبر افضل للنتيجه\n",
        "            correct += (predictions == labels).sum().item()  # حساب كم بريدكت ايتم كان صح\n",
        "            total += labels.size(0)  # للحساب الدقه لازم نعرف ال size  اجيب كل بيانات الي عندي مدامه فيكتور اساسا ون كولمن\n",
        "\n",
        "    avg_loss = total_loss / len(dataloader)\n",
        "    accuracy = 100 * correct / total  # Compute accuracy in percentage\n",
        "    return avg_loss, accuracy\n"
      ]
    },
    {
      "cell_type": "markdown",
      "metadata": {
        "id": "uInnQKgL72lH"
      },
      "source": [
        "# **📌 Full Training Process in PyTorch**\n",
        "\n",
        "Now that you understand the **Dataset Class, Model Class, Training Loop, and Validation Loop**, it's time to put everything together into a **full training process**.\n"
      ]
    },
    {
      "cell_type": "code",
      "execution_count": null,
      "metadata": {
        "execution": {
          "iopub.execute_input": "2025-02-01T13:52:46.305727Z",
          "iopub.status.busy": "2025-02-01T13:52:46.305338Z",
          "iopub.status.idle": "2025-02-01T13:54:13.696582Z",
          "shell.execute_reply": "2025-02-01T13:54:13.695558Z",
          "shell.execute_reply.started": "2025-02-01T13:52:46.305698Z"
        },
        "trusted": true,
        "id": "HVWv__pD72lH",
        "outputId": "3af68731-9f2c-4b0c-fa03-9508b24c0c67",
        "colab": {
          "base_uri": "https://localhost:8080/"
        }
      },
      "outputs": [
        {
          "output_type": "stream",
          "name": "stdout",
          "text": [
            "Epoch 1: Validation Accuracy = 93.90%\n",
            "Epoch 2: Validation Accuracy = 95.84%\n",
            "Epoch 3: Validation Accuracy = 96.58%\n",
            "Epoch 4: Validation Accuracy = 97.18%\n",
            "Epoch 5: Validation Accuracy = 97.61%\n"
          ]
        }
      ],
      "source": [
        "import torch\n",
        "import torch.nn as nn\n",
        "import torch.optim as optim\n",
        "from torch.utils.data import DataLoader, Dataset\n",
        "import torchvision.transforms as transforms\n",
        "from torchvision.datasets import MNIST\n",
        "\n",
        "# 🔹 Load MNIST Dataset\n",
        "transform = transforms.ToTensor() # DL model only accept tensor\n",
        "train_dataset = MNIST(root=\"./data\", train=True, transform=transform, download=True)\n",
        "test_dataset = MNIST(root=\"./data\", train=False, transform=transform, download=True)\n",
        "\n",
        "train_loader = DataLoader(train_dataset, batch_size=64, shuffle=True)\n",
        "test_loader = DataLoader(test_dataset, batch_size=64, shuffle=False)\n",
        "\n",
        "\n",
        "\n",
        "# Model\n",
        "class CustomModel(nn.Module):\n",
        "    def __init__(self):\n",
        "        \"\"\"\n",
        "        1️⃣ Define all layers in the model.\n",
        "        \"\"\"\n",
        "        super(CustomModel, self).__init__()\n",
        "\n",
        "        # Convolutional Layer + Activation + Pooling\n",
        "        self.conv1 = nn.Conv2d(in_channels=1, out_channels=16, kernel_size=3, stride=1, padding=1)\n",
        "        self.relu = nn.ReLU()\n",
        "        self.pool = nn.MaxPool2d(kernel_size=2, stride=2)\n",
        "\n",
        "        # Fully Connected Layer\n",
        "        self.fc = nn.Linear(16 * 14 * 14, 10)  # Output 10 classes\n",
        "\n",
        "        # Softmax Layer\n",
        "        self.softmax = nn.Softmax(dim=1)  # Apply along the class dimension\n",
        "\n",
        "    def forward(self, x):\n",
        "        \"\"\"\n",
        "        2️⃣ Define the forward pass (how data flows through the model).\n",
        "        \"\"\"\n",
        "        x = self.conv1(x)  # Convolution\n",
        "        x = self.relu(x)  # Activation\n",
        "        x = self.pool(x)  # Pooling\n",
        "        x = torch.flatten(x, start_dim=1)  # Flatten for FC layer\n",
        "        x = self.fc(x)  # Fully connected layer\n",
        "        x = self.softmax(x)  # Convert logits to probabilities\n",
        "        return x  # Returns probability distribution\n",
        "\n",
        "\n",
        "\n",
        "# Training and Validation Loops\n",
        "def train_one_epoch(model, dataloader, criterion, optimizer, device):\n",
        "    model.train()\n",
        "    for images, labels in dataloader:\n",
        "        images, labels = images.to(device), labels.to(device)\n",
        "        optimizer.zero_grad()\n",
        "        loss = criterion(model(images), labels)\n",
        "        loss.backward()\n",
        "        optimizer.step()\n",
        "\n",
        "def validate(model, dataloader, criterion, device):\n",
        "    model.eval()\n",
        "    correct, total = 0, 0\n",
        "    with torch.no_grad():\n",
        "        for images, labels in dataloader:\n",
        "            images, labels = images.to(device), labels.to(device)\n",
        "            outputs = model(images)\n",
        "            correct += (outputs.argmax(dim=1) == labels).sum().item()\n",
        "            total += labels.size(0)\n",
        "    return 100 * correct / total  # Return accuracy\n",
        "\n",
        "\n",
        "\n",
        "\n",
        "# Run Training\n",
        "\n",
        "\n",
        "model = CustomModel()\n",
        "device = torch.device(\"cuda\" if torch.cuda.is_available() else \"cpu\")\n",
        "model.to(device)\n",
        "\n",
        "criterion = nn.CrossEntropyLoss() # loss function\n",
        "optimizer = optim.Adam(model.parameters(), lr=0.001)\n",
        "\n",
        "for epoch in range(5):  # Train for 5 epochs\n",
        "    train_one_epoch(model, train_loader, criterion, optimizer, device) # call function\n",
        "    accuracy = validate(model, test_loader, criterion, device)\n",
        "    print(f\"Epoch {epoch+1}: Validation Accuracy = {accuracy:.2f}%\")\n"
      ]
    },
    {
      "cell_type": "markdown",
      "metadata": {
        "id": "56gSWUYz72lf"
      },
      "source": [
        "![image.png](https://i.imgur.com/1xbDOQX.jpeg)"
      ]
    },
    {
      "cell_type": "markdown",
      "metadata": {
        "id": "CvAVA3Pj72lg"
      },
      "source": [
        "### Contributed by: Mohamed Eltayeb\n"
      ]
    },
    {
      "cell_type": "markdown",
      "metadata": {
        "id": "FYn_EfIS72lh"
      },
      "source": []
    }
  ],
  "metadata": {
    "kaggle": {
      "accelerator": "none",
      "dataSources": [],
      "dockerImageVersionId": 30839,
      "isGpuEnabled": false,
      "isInternetEnabled": true,
      "language": "python",
      "sourceType": "notebook"
    },
    "kernelspec": {
      "display_name": "Python 3",
      "name": "python3"
    },
    "language_info": {
      "codemirror_mode": {
        "name": "ipython",
        "version": 3
      },
      "file_extension": ".py",
      "mimetype": "text/x-python",
      "name": "python",
      "nbconvert_exporter": "python",
      "pygments_lexer": "ipython3",
      "version": "3.10.12"
    },
    "colab": {
      "provenance": [],
      "gpuType": "T4"
    },
    "accelerator": "GPU"
  },
  "nbformat": 4,
  "nbformat_minor": 0
}